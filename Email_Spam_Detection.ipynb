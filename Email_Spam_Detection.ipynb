{
 "cells": [
  {
   "cell_type": "code",
   "execution_count": 1,
   "metadata": {},
   "outputs": [],
   "source": [
    "# Importing required packages \n",
    "import pandas as pd\n",
    "import warnings\n",
    "import numpy as np\n",
    "from sklearn.feature_extraction.text import CountVectorizer,TfidfVectorizer,TfidfTransformer\n",
    "from sklearn.ensemble import RandomForestClassifier ,AdaBoostClassifier\n",
    "from sklearn.linear_model import LogisticRegression\n",
    "from sklearn.metrics import precision_score, recall_score,accuracy_score, classification_report, f1_score ,confusion_matrix"
   ]
  },
  {
   "cell_type": "code",
   "execution_count": 44,
   "metadata": {},
   "outputs": [],
   "source": [
    "# Reading the data\n",
    "data = pd.read_csv(\"Email Spam detection/messages.csv\")"
   ]
  },
  {
   "cell_type": "code",
   "execution_count": 45,
   "metadata": {},
   "outputs": [
    {
     "data": {
      "text/html": [
       "<div>\n",
       "<style scoped>\n",
       "    .dataframe tbody tr th:only-of-type {\n",
       "        vertical-align: middle;\n",
       "    }\n",
       "\n",
       "    .dataframe tbody tr th {\n",
       "        vertical-align: top;\n",
       "    }\n",
       "\n",
       "    .dataframe thead th {\n",
       "        text-align: right;\n",
       "    }\n",
       "</style>\n",
       "<table border=\"1\" class=\"dataframe\">\n",
       "  <thead>\n",
       "    <tr style=\"text-align: right;\">\n",
       "      <th></th>\n",
       "      <th>subject</th>\n",
       "      <th>message</th>\n",
       "      <th>label</th>\n",
       "    </tr>\n",
       "  </thead>\n",
       "  <tbody>\n",
       "    <tr>\n",
       "      <th>0</th>\n",
       "      <td>job posting - apple-iss research center</td>\n",
       "      <td>content - length : 3386 apple-iss research cen...</td>\n",
       "      <td>0</td>\n",
       "    </tr>\n",
       "    <tr>\n",
       "      <th>1</th>\n",
       "      <td>NaN</td>\n",
       "      <td>lang classification grimes , joseph e . and ba...</td>\n",
       "      <td>0</td>\n",
       "    </tr>\n",
       "    <tr>\n",
       "      <th>2</th>\n",
       "      <td>query : letter frequencies for text identifica...</td>\n",
       "      <td>i am posting this inquiry for sergei atamas ( ...</td>\n",
       "      <td>0</td>\n",
       "    </tr>\n",
       "    <tr>\n",
       "      <th>3</th>\n",
       "      <td>risk</td>\n",
       "      <td>a colleague and i are researching the differin...</td>\n",
       "      <td>0</td>\n",
       "    </tr>\n",
       "    <tr>\n",
       "      <th>4</th>\n",
       "      <td>request book information</td>\n",
       "      <td>earlier this morning i was on the phone with a...</td>\n",
       "      <td>0</td>\n",
       "    </tr>\n",
       "    <tr>\n",
       "      <th>...</th>\n",
       "      <td>...</td>\n",
       "      <td>...</td>\n",
       "      <td>...</td>\n",
       "    </tr>\n",
       "    <tr>\n",
       "      <th>2888</th>\n",
       "      <td>love your profile - ysuolvpv</td>\n",
       "      <td>hello thanks for stopping by ! ! we have taken...</td>\n",
       "      <td>1</td>\n",
       "    </tr>\n",
       "    <tr>\n",
       "      <th>2889</th>\n",
       "      <td>you have been asked to join kiddin</td>\n",
       "      <td>the list owner of : \" kiddin \" has invited you...</td>\n",
       "      <td>1</td>\n",
       "    </tr>\n",
       "    <tr>\n",
       "      <th>2890</th>\n",
       "      <td>anglicization of composers ' names</td>\n",
       "      <td>judging from the return post , i must have sou...</td>\n",
       "      <td>0</td>\n",
       "    </tr>\n",
       "    <tr>\n",
       "      <th>2891</th>\n",
       "      <td>re : 6 . 797 , comparative method : n - ary co...</td>\n",
       "      <td>gotcha ! there are two separate fallacies in t...</td>\n",
       "      <td>0</td>\n",
       "    </tr>\n",
       "    <tr>\n",
       "      <th>2892</th>\n",
       "      <td>re : american - english in australia</td>\n",
       "      <td>hello ! i ' m working on a thesis concerning a...</td>\n",
       "      <td>0</td>\n",
       "    </tr>\n",
       "  </tbody>\n",
       "</table>\n",
       "<p>2893 rows × 3 columns</p>\n",
       "</div>"
      ],
      "text/plain": [
       "                                                subject  \\\n",
       "0               job posting - apple-iss research center   \n",
       "1                                                   NaN   \n",
       "2     query : letter frequencies for text identifica...   \n",
       "3                                                  risk   \n",
       "4                              request book information   \n",
       "...                                                 ...   \n",
       "2888                       love your profile - ysuolvpv   \n",
       "2889                 you have been asked to join kiddin   \n",
       "2890                 anglicization of composers ' names   \n",
       "2891  re : 6 . 797 , comparative method : n - ary co...   \n",
       "2892               re : american - english in australia   \n",
       "\n",
       "                                                message  label  \n",
       "0     content - length : 3386 apple-iss research cen...      0  \n",
       "1     lang classification grimes , joseph e . and ba...      0  \n",
       "2     i am posting this inquiry for sergei atamas ( ...      0  \n",
       "3     a colleague and i are researching the differin...      0  \n",
       "4     earlier this morning i was on the phone with a...      0  \n",
       "...                                                 ...    ...  \n",
       "2888  hello thanks for stopping by ! ! we have taken...      1  \n",
       "2889  the list owner of : \" kiddin \" has invited you...      1  \n",
       "2890  judging from the return post , i must have sou...      0  \n",
       "2891  gotcha ! there are two separate fallacies in t...      0  \n",
       "2892  hello ! i ' m working on a thesis concerning a...      0  \n",
       "\n",
       "[2893 rows x 3 columns]"
      ]
     },
     "execution_count": 45,
     "metadata": {},
     "output_type": "execute_result"
    }
   ],
   "source": [
    "data"
   ]
  },
  {
   "cell_type": "code",
   "execution_count": 46,
   "metadata": {},
   "outputs": [
    {
     "data": {
      "text/plain": [
       "0    2412\n",
       "1     481\n",
       "Name: label, dtype: int64"
      ]
     },
     "execution_count": 46,
     "metadata": {},
     "output_type": "execute_result"
    }
   ],
   "source": [
    "data.label.value_counts() # Count of Values in Label/ Target column"
   ]
  },
  {
   "cell_type": "code",
   "execution_count": 48,
   "metadata": {},
   "outputs": [
    {
     "data": {
      "text/plain": [
       "subject     True\n",
       "message    False\n",
       "label      False\n",
       "dtype: bool"
      ]
     },
     "execution_count": 48,
     "metadata": {},
     "output_type": "execute_result"
    }
   ],
   "source": [
    "data.isna().any()         # Their are nan values in the column 'subject'"
   ]
  },
  {
   "cell_type": "code",
   "execution_count": 49,
   "metadata": {},
   "outputs": [
    {
     "data": {
      "text/html": [
       "<div>\n",
       "<style scoped>\n",
       "    .dataframe tbody tr th:only-of-type {\n",
       "        vertical-align: middle;\n",
       "    }\n",
       "\n",
       "    .dataframe tbody tr th {\n",
       "        vertical-align: top;\n",
       "    }\n",
       "\n",
       "    .dataframe thead th {\n",
       "        text-align: right;\n",
       "    }\n",
       "</style>\n",
       "<table border=\"1\" class=\"dataframe\">\n",
       "  <thead>\n",
       "    <tr style=\"text-align: right;\">\n",
       "      <th></th>\n",
       "      <th>subject</th>\n",
       "      <th>message</th>\n",
       "      <th>label</th>\n",
       "    </tr>\n",
       "  </thead>\n",
       "  <tbody>\n",
       "    <tr>\n",
       "      <th>1</th>\n",
       "      <td>NaN</td>\n",
       "      <td>lang classification grimes , joseph e . and ba...</td>\n",
       "      <td>0</td>\n",
       "    </tr>\n",
       "    <tr>\n",
       "      <th>13</th>\n",
       "      <td>NaN</td>\n",
       "      <td>syntax the antisymmetry of syntax richard s . ...</td>\n",
       "      <td>0</td>\n",
       "    </tr>\n",
       "    <tr>\n",
       "      <th>69</th>\n",
       "      <td>NaN</td>\n",
       "      <td>computational ling bengt sigurd ( ed ) compute...</td>\n",
       "      <td>0</td>\n",
       "    </tr>\n",
       "    <tr>\n",
       "      <th>107</th>\n",
       "      <td>NaN</td>\n",
       "      <td>phonology &amp; phonetics burquest , donald a . an...</td>\n",
       "      <td>0</td>\n",
       "    </tr>\n",
       "    <tr>\n",
       "      <th>258</th>\n",
       "      <td>NaN</td>\n",
       "      <td>phonology &amp; phonetics leiden in last : hil pho...</td>\n",
       "      <td>0</td>\n",
       "    </tr>\n",
       "    <tr>\n",
       "      <th>...</th>\n",
       "      <td>...</td>\n",
       "      <td>...</td>\n",
       "      <td>...</td>\n",
       "    </tr>\n",
       "    <tr>\n",
       "      <th>2296</th>\n",
       "      <td>NaN</td>\n",
       "      <td>the latest issue ( 1994 n01 ) of etudes de let...</td>\n",
       "      <td>0</td>\n",
       "    </tr>\n",
       "    <tr>\n",
       "      <th>2309</th>\n",
       "      <td>NaN</td>\n",
       "      <td>b a r g a i n a i r f a r e s your 1 - stop tr...</td>\n",
       "      <td>1</td>\n",
       "    </tr>\n",
       "    <tr>\n",
       "      <th>2555</th>\n",
       "      <td>NaN</td>\n",
       "      <td>data to : = 20 date : fri , 06 feb 1998 22 : 3...</td>\n",
       "      <td>1</td>\n",
       "    </tr>\n",
       "    <tr>\n",
       "      <th>2562</th>\n",
       "      <td>NaN</td>\n",
       "      <td>epac . pt , e . carnoali @ genie . com , e . c...</td>\n",
       "      <td>1</td>\n",
       "    </tr>\n",
       "    <tr>\n",
       "      <th>2811</th>\n",
       "      <td>NaN</td>\n",
       "      <td>simply send a message to : listserv @ tamvm1 ....</td>\n",
       "      <td>0</td>\n",
       "    </tr>\n",
       "  </tbody>\n",
       "</table>\n",
       "<p>62 rows × 3 columns</p>\n",
       "</div>"
      ],
      "text/plain": [
       "     subject                                            message  label\n",
       "1        NaN  lang classification grimes , joseph e . and ba...      0\n",
       "13       NaN  syntax the antisymmetry of syntax richard s . ...      0\n",
       "69       NaN  computational ling bengt sigurd ( ed ) compute...      0\n",
       "107      NaN  phonology & phonetics burquest , donald a . an...      0\n",
       "258      NaN  phonology & phonetics leiden in last : hil pho...      0\n",
       "...      ...                                                ...    ...\n",
       "2296     NaN  the latest issue ( 1994 n01 ) of etudes de let...      0\n",
       "2309     NaN  b a r g a i n a i r f a r e s your 1 - stop tr...      1\n",
       "2555     NaN  data to : = 20 date : fri , 06 feb 1998 22 : 3...      1\n",
       "2562     NaN  epac . pt , e . carnoali @ genie . com , e . c...      1\n",
       "2811     NaN  simply send a message to : listserv @ tamvm1 ....      0\n",
       "\n",
       "[62 rows x 3 columns]"
      ]
     },
     "execution_count": 49,
     "metadata": {},
     "output_type": "execute_result"
    }
   ],
   "source": [
    "data[data.subject.isna()]"
   ]
  },
  {
   "cell_type": "code",
   "execution_count": 50,
   "metadata": {},
   "outputs": [],
   "source": [
    "data = data.fillna(\" \") #filling all the NAN values with spaces"
   ]
  },
  {
   "cell_type": "code",
   "execution_count": 51,
   "metadata": {},
   "outputs": [],
   "source": [
    "# Combining the subject and messages into single text column which will be input for NLP models later on\n",
    "data[\"text\"] = data[\"subject\"].astype(str) + \" \" + data[\"message\"]"
   ]
  },
  {
   "cell_type": "code",
   "execution_count": 52,
   "metadata": {},
   "outputs": [
    {
     "data": {
      "text/html": [
       "<div>\n",
       "<style scoped>\n",
       "    .dataframe tbody tr th:only-of-type {\n",
       "        vertical-align: middle;\n",
       "    }\n",
       "\n",
       "    .dataframe tbody tr th {\n",
       "        vertical-align: top;\n",
       "    }\n",
       "\n",
       "    .dataframe thead th {\n",
       "        text-align: right;\n",
       "    }\n",
       "</style>\n",
       "<table border=\"1\" class=\"dataframe\">\n",
       "  <thead>\n",
       "    <tr style=\"text-align: right;\">\n",
       "      <th></th>\n",
       "      <th>subject</th>\n",
       "      <th>message</th>\n",
       "      <th>label</th>\n",
       "      <th>text</th>\n",
       "    </tr>\n",
       "  </thead>\n",
       "  <tbody>\n",
       "    <tr>\n",
       "      <th>0</th>\n",
       "      <td>job posting - apple-iss research center</td>\n",
       "      <td>content - length : 3386 apple-iss research cen...</td>\n",
       "      <td>0</td>\n",
       "      <td>job posting - apple-iss research center conten...</td>\n",
       "    </tr>\n",
       "    <tr>\n",
       "      <th>1</th>\n",
       "      <td></td>\n",
       "      <td>lang classification grimes , joseph e . and ba...</td>\n",
       "      <td>0</td>\n",
       "      <td>lang classification grimes , joseph e . and ...</td>\n",
       "    </tr>\n",
       "    <tr>\n",
       "      <th>2</th>\n",
       "      <td>query : letter frequencies for text identifica...</td>\n",
       "      <td>i am posting this inquiry for sergei atamas ( ...</td>\n",
       "      <td>0</td>\n",
       "      <td>query : letter frequencies for text identifica...</td>\n",
       "    </tr>\n",
       "    <tr>\n",
       "      <th>3</th>\n",
       "      <td>risk</td>\n",
       "      <td>a colleague and i are researching the differin...</td>\n",
       "      <td>0</td>\n",
       "      <td>risk a colleague and i are researching the dif...</td>\n",
       "    </tr>\n",
       "    <tr>\n",
       "      <th>4</th>\n",
       "      <td>request book information</td>\n",
       "      <td>earlier this morning i was on the phone with a...</td>\n",
       "      <td>0</td>\n",
       "      <td>request book information earlier this morning ...</td>\n",
       "    </tr>\n",
       "    <tr>\n",
       "      <th>...</th>\n",
       "      <td>...</td>\n",
       "      <td>...</td>\n",
       "      <td>...</td>\n",
       "      <td>...</td>\n",
       "    </tr>\n",
       "    <tr>\n",
       "      <th>2888</th>\n",
       "      <td>love your profile - ysuolvpv</td>\n",
       "      <td>hello thanks for stopping by ! ! we have taken...</td>\n",
       "      <td>1</td>\n",
       "      <td>love your profile - ysuolvpv hello thanks for ...</td>\n",
       "    </tr>\n",
       "    <tr>\n",
       "      <th>2889</th>\n",
       "      <td>you have been asked to join kiddin</td>\n",
       "      <td>the list owner of : \" kiddin \" has invited you...</td>\n",
       "      <td>1</td>\n",
       "      <td>you have been asked to join kiddin the list ow...</td>\n",
       "    </tr>\n",
       "    <tr>\n",
       "      <th>2890</th>\n",
       "      <td>anglicization of composers ' names</td>\n",
       "      <td>judging from the return post , i must have sou...</td>\n",
       "      <td>0</td>\n",
       "      <td>anglicization of composers ' names judging fro...</td>\n",
       "    </tr>\n",
       "    <tr>\n",
       "      <th>2891</th>\n",
       "      <td>re : 6 . 797 , comparative method : n - ary co...</td>\n",
       "      <td>gotcha ! there are two separate fallacies in t...</td>\n",
       "      <td>0</td>\n",
       "      <td>re : 6 . 797 , comparative method : n - ary co...</td>\n",
       "    </tr>\n",
       "    <tr>\n",
       "      <th>2892</th>\n",
       "      <td>re : american - english in australia</td>\n",
       "      <td>hello ! i ' m working on a thesis concerning a...</td>\n",
       "      <td>0</td>\n",
       "      <td>re : american - english in australia hello ! i...</td>\n",
       "    </tr>\n",
       "  </tbody>\n",
       "</table>\n",
       "<p>2893 rows × 4 columns</p>\n",
       "</div>"
      ],
      "text/plain": [
       "                                                subject  \\\n",
       "0               job posting - apple-iss research center   \n",
       "1                                                         \n",
       "2     query : letter frequencies for text identifica...   \n",
       "3                                                  risk   \n",
       "4                              request book information   \n",
       "...                                                 ...   \n",
       "2888                       love your profile - ysuolvpv   \n",
       "2889                 you have been asked to join kiddin   \n",
       "2890                 anglicization of composers ' names   \n",
       "2891  re : 6 . 797 , comparative method : n - ary co...   \n",
       "2892               re : american - english in australia   \n",
       "\n",
       "                                                message  label  \\\n",
       "0     content - length : 3386 apple-iss research cen...      0   \n",
       "1     lang classification grimes , joseph e . and ba...      0   \n",
       "2     i am posting this inquiry for sergei atamas ( ...      0   \n",
       "3     a colleague and i are researching the differin...      0   \n",
       "4     earlier this morning i was on the phone with a...      0   \n",
       "...                                                 ...    ...   \n",
       "2888  hello thanks for stopping by ! ! we have taken...      1   \n",
       "2889  the list owner of : \" kiddin \" has invited you...      1   \n",
       "2890  judging from the return post , i must have sou...      0   \n",
       "2891  gotcha ! there are two separate fallacies in t...      0   \n",
       "2892  hello ! i ' m working on a thesis concerning a...      0   \n",
       "\n",
       "                                                   text  \n",
       "0     job posting - apple-iss research center conten...  \n",
       "1       lang classification grimes , joseph e . and ...  \n",
       "2     query : letter frequencies for text identifica...  \n",
       "3     risk a colleague and i are researching the dif...  \n",
       "4     request book information earlier this morning ...  \n",
       "...                                                 ...  \n",
       "2888  love your profile - ysuolvpv hello thanks for ...  \n",
       "2889  you have been asked to join kiddin the list ow...  \n",
       "2890  anglicization of composers ' names judging fro...  \n",
       "2891  re : 6 . 797 , comparative method : n - ary co...  \n",
       "2892  re : american - english in australia hello ! i...  \n",
       "\n",
       "[2893 rows x 4 columns]"
      ]
     },
     "execution_count": 52,
     "metadata": {},
     "output_type": "execute_result"
    }
   ],
   "source": [
    "data"
   ]
  },
  {
   "cell_type": "code",
   "execution_count": 53,
   "metadata": {},
   "outputs": [],
   "source": [
    "# Creating the DF required for the task keeping only the combined column \"text\" and \"label\"\n",
    "nlp_df = data.drop([\"subject\",\"message\"],axis=1)"
   ]
  },
  {
   "cell_type": "code",
   "execution_count": 54,
   "metadata": {},
   "outputs": [
    {
     "data": {
      "text/html": [
       "<div>\n",
       "<style scoped>\n",
       "    .dataframe tbody tr th:only-of-type {\n",
       "        vertical-align: middle;\n",
       "    }\n",
       "\n",
       "    .dataframe tbody tr th {\n",
       "        vertical-align: top;\n",
       "    }\n",
       "\n",
       "    .dataframe thead th {\n",
       "        text-align: right;\n",
       "    }\n",
       "</style>\n",
       "<table border=\"1\" class=\"dataframe\">\n",
       "  <thead>\n",
       "    <tr style=\"text-align: right;\">\n",
       "      <th></th>\n",
       "      <th>label</th>\n",
       "      <th>text</th>\n",
       "    </tr>\n",
       "  </thead>\n",
       "  <tbody>\n",
       "    <tr>\n",
       "      <th>0</th>\n",
       "      <td>0</td>\n",
       "      <td>job posting - apple-iss research center conten...</td>\n",
       "    </tr>\n",
       "    <tr>\n",
       "      <th>1</th>\n",
       "      <td>0</td>\n",
       "      <td>lang classification grimes , joseph e . and ...</td>\n",
       "    </tr>\n",
       "    <tr>\n",
       "      <th>2</th>\n",
       "      <td>0</td>\n",
       "      <td>query : letter frequencies for text identifica...</td>\n",
       "    </tr>\n",
       "    <tr>\n",
       "      <th>3</th>\n",
       "      <td>0</td>\n",
       "      <td>risk a colleague and i are researching the dif...</td>\n",
       "    </tr>\n",
       "    <tr>\n",
       "      <th>4</th>\n",
       "      <td>0</td>\n",
       "      <td>request book information earlier this morning ...</td>\n",
       "    </tr>\n",
       "    <tr>\n",
       "      <th>...</th>\n",
       "      <td>...</td>\n",
       "      <td>...</td>\n",
       "    </tr>\n",
       "    <tr>\n",
       "      <th>2888</th>\n",
       "      <td>1</td>\n",
       "      <td>love your profile - ysuolvpv hello thanks for ...</td>\n",
       "    </tr>\n",
       "    <tr>\n",
       "      <th>2889</th>\n",
       "      <td>1</td>\n",
       "      <td>you have been asked to join kiddin the list ow...</td>\n",
       "    </tr>\n",
       "    <tr>\n",
       "      <th>2890</th>\n",
       "      <td>0</td>\n",
       "      <td>anglicization of composers ' names judging fro...</td>\n",
       "    </tr>\n",
       "    <tr>\n",
       "      <th>2891</th>\n",
       "      <td>0</td>\n",
       "      <td>re : 6 . 797 , comparative method : n - ary co...</td>\n",
       "    </tr>\n",
       "    <tr>\n",
       "      <th>2892</th>\n",
       "      <td>0</td>\n",
       "      <td>re : american - english in australia hello ! i...</td>\n",
       "    </tr>\n",
       "  </tbody>\n",
       "</table>\n",
       "<p>2893 rows × 2 columns</p>\n",
       "</div>"
      ],
      "text/plain": [
       "      label                                               text\n",
       "0         0  job posting - apple-iss research center conten...\n",
       "1         0    lang classification grimes , joseph e . and ...\n",
       "2         0  query : letter frequencies for text identifica...\n",
       "3         0  risk a colleague and i are researching the dif...\n",
       "4         0  request book information earlier this morning ...\n",
       "...     ...                                                ...\n",
       "2888      1  love your profile - ysuolvpv hello thanks for ...\n",
       "2889      1  you have been asked to join kiddin the list ow...\n",
       "2890      0  anglicization of composers ' names judging fro...\n",
       "2891      0  re : 6 . 797 , comparative method : n - ary co...\n",
       "2892      0  re : american - english in australia hello ! i...\n",
       "\n",
       "[2893 rows x 2 columns]"
      ]
     },
     "execution_count": 54,
     "metadata": {},
     "output_type": "execute_result"
    }
   ],
   "source": [
    "nlp_df"
   ]
  },
  {
   "cell_type": "code",
   "execution_count": 55,
   "metadata": {},
   "outputs": [],
   "source": [
    "# Removing Unnecessary numbers and converting the text into lowercase\n",
    "nlp_df[\"text\"] = nlp_df[\"text\"].str.lower()\n",
    "nlp_df[\"text\"] = nlp_df[\"text\"].str.replace('[0-9]','')\n",
    "#nlp_df[\"text\"] = nlp_df[\"text\"].str.replace('[^\\w\\s]','')"
   ]
  },
  {
   "cell_type": "code",
   "execution_count": 56,
   "metadata": {},
   "outputs": [
    {
     "data": {
      "text/html": [
       "<div>\n",
       "<style scoped>\n",
       "    .dataframe tbody tr th:only-of-type {\n",
       "        vertical-align: middle;\n",
       "    }\n",
       "\n",
       "    .dataframe tbody tr th {\n",
       "        vertical-align: top;\n",
       "    }\n",
       "\n",
       "    .dataframe thead th {\n",
       "        text-align: right;\n",
       "    }\n",
       "</style>\n",
       "<table border=\"1\" class=\"dataframe\">\n",
       "  <thead>\n",
       "    <tr style=\"text-align: right;\">\n",
       "      <th></th>\n",
       "      <th>label</th>\n",
       "      <th>text</th>\n",
       "    </tr>\n",
       "  </thead>\n",
       "  <tbody>\n",
       "    <tr>\n",
       "      <th>0</th>\n",
       "      <td>0</td>\n",
       "      <td>job posting - apple-iss research center conten...</td>\n",
       "    </tr>\n",
       "    <tr>\n",
       "      <th>1</th>\n",
       "      <td>0</td>\n",
       "      <td>lang classification grimes , joseph e . and ...</td>\n",
       "    </tr>\n",
       "    <tr>\n",
       "      <th>2</th>\n",
       "      <td>0</td>\n",
       "      <td>query : letter frequencies for text identifica...</td>\n",
       "    </tr>\n",
       "    <tr>\n",
       "      <th>3</th>\n",
       "      <td>0</td>\n",
       "      <td>risk a colleague and i are researching the dif...</td>\n",
       "    </tr>\n",
       "    <tr>\n",
       "      <th>4</th>\n",
       "      <td>0</td>\n",
       "      <td>request book information earlier this morning ...</td>\n",
       "    </tr>\n",
       "    <tr>\n",
       "      <th>...</th>\n",
       "      <td>...</td>\n",
       "      <td>...</td>\n",
       "    </tr>\n",
       "    <tr>\n",
       "      <th>2888</th>\n",
       "      <td>1</td>\n",
       "      <td>love your profile - ysuolvpv hello thanks for ...</td>\n",
       "    </tr>\n",
       "    <tr>\n",
       "      <th>2889</th>\n",
       "      <td>1</td>\n",
       "      <td>you have been asked to join kiddin the list ow...</td>\n",
       "    </tr>\n",
       "    <tr>\n",
       "      <th>2890</th>\n",
       "      <td>0</td>\n",
       "      <td>anglicization of composers ' names judging fro...</td>\n",
       "    </tr>\n",
       "    <tr>\n",
       "      <th>2891</th>\n",
       "      <td>0</td>\n",
       "      <td>re :  .  , comparative method : n - ary compar...</td>\n",
       "    </tr>\n",
       "    <tr>\n",
       "      <th>2892</th>\n",
       "      <td>0</td>\n",
       "      <td>re : american - english in australia hello ! i...</td>\n",
       "    </tr>\n",
       "  </tbody>\n",
       "</table>\n",
       "<p>2893 rows × 2 columns</p>\n",
       "</div>"
      ],
      "text/plain": [
       "      label                                               text\n",
       "0         0  job posting - apple-iss research center conten...\n",
       "1         0    lang classification grimes , joseph e . and ...\n",
       "2         0  query : letter frequencies for text identifica...\n",
       "3         0  risk a colleague and i are researching the dif...\n",
       "4         0  request book information earlier this morning ...\n",
       "...     ...                                                ...\n",
       "2888      1  love your profile - ysuolvpv hello thanks for ...\n",
       "2889      1  you have been asked to join kiddin the list ow...\n",
       "2890      0  anglicization of composers ' names judging fro...\n",
       "2891      0  re :  .  , comparative method : n - ary compar...\n",
       "2892      0  re : american - english in australia hello ! i...\n",
       "\n",
       "[2893 rows x 2 columns]"
      ]
     },
     "execution_count": 56,
     "metadata": {},
     "output_type": "execute_result"
    }
   ],
   "source": [
    "nlp_df"
   ]
  },
  {
   "cell_type": "code",
   "execution_count": 58,
   "metadata": {},
   "outputs": [],
   "source": [
    "y = nlp_df[\"label\"]\n",
    "X = nlp_df[\"text\"]"
   ]
  },
  {
   "cell_type": "code",
   "execution_count": 60,
   "metadata": {},
   "outputs": [],
   "source": [
    "# Splitting into training and Test dataset\n",
    "from sklearn.model_selection import train_test_split\n",
    "X_train,X_test,y_train,y_test=train_test_split(X,y,test_size=0.2,random_state=88)"
   ]
  },
  {
   "cell_type": "markdown",
   "metadata": {},
   "source": [
    "## Converting into TF-IDF "
   ]
  },
  {
   "cell_type": "code",
   "execution_count": 65,
   "metadata": {},
   "outputs": [],
   "source": [
    "vectorizer = TfidfVectorizer(min_df =1,stop_words='english',use_idf=True,analyzer='word',\n",
    "                             ngram_range=(1,1),max_features=15000)\n",
    "x_train = vectorizer.fit_transform(X_train)\n",
    "x_test  = vectorizer.transform(X_test)"
   ]
  },
  {
   "cell_type": "markdown",
   "metadata": {},
   "source": [
    "tf-idf stands for Term frequency-inverse document frequency. It is a numerical statistic that is intended to reflect how important a word is to a document in a collection or corpus. The tf-idf weight is a weight often used in information retrieval and text mining. Variations of the tf-idf weighting scheme are often used by search engines in scoring and ranking a document's relevance given a query."
   ]
  },
  {
   "cell_type": "code",
   "execution_count": 66,
   "metadata": {},
   "outputs": [
    {
     "data": {
      "text/plain": [
       "(2314, 15000)"
      ]
     },
     "execution_count": 66,
     "metadata": {},
     "output_type": "execute_result"
    }
   ],
   "source": [
    "x_train.shape"
   ]
  },
  {
   "cell_type": "code",
   "execution_count": 67,
   "metadata": {},
   "outputs": [
    {
     "data": {
      "text/plain": [
       "(579, 15000)"
      ]
     },
     "execution_count": 67,
     "metadata": {},
     "output_type": "execute_result"
    }
   ],
   "source": [
    "x_test.shape"
   ]
  },
  {
   "cell_type": "markdown",
   "metadata": {},
   "source": [
    "## Machine Learning Models "
   ]
  },
  {
   "cell_type": "markdown",
   "metadata": {},
   "source": [
    "### Logistic Regression"
   ]
  },
  {
   "cell_type": "code",
   "execution_count": 68,
   "metadata": {},
   "outputs": [
    {
     "data": {
      "text/plain": [
       "LogisticRegression(class_weight='balanced', max_iter=1000, random_state=5,\n",
       "                   solver='liblinear', tol=0.001)"
      ]
     },
     "execution_count": 68,
     "metadata": {},
     "output_type": "execute_result"
    }
   ],
   "source": [
    "logisticRegr = LogisticRegression(solver='liblinear',class_weight='balanced',random_state=5,tol=0.001,max_iter=1000)\n",
    "logisticRegr.fit(x_train, y_train)"
   ]
  },
  {
   "cell_type": "code",
   "execution_count": 69,
   "metadata": {},
   "outputs": [],
   "source": [
    "predictions = logisticRegr.predict(x_test)"
   ]
  },
  {
   "cell_type": "code",
   "execution_count": 70,
   "metadata": {},
   "outputs": [
    {
     "name": "stdout",
     "output_type": "stream",
     "text": [
      "[[472   0]\n",
      " [  5 102]]\n"
     ]
    }
   ],
   "source": [
    "cm = confusion_matrix(y_test, predictions)\n",
    "print(cm)"
   ]
  },
  {
   "cell_type": "code",
   "execution_count": 71,
   "metadata": {},
   "outputs": [
    {
     "data": {
      "text/plain": [
       "0.9913644214162349"
      ]
     },
     "execution_count": 71,
     "metadata": {},
     "output_type": "execute_result"
    }
   ],
   "source": [
    "accuracy_score(y_test, predictions)"
   ]
  },
  {
   "cell_type": "code",
   "execution_count": 72,
   "metadata": {},
   "outputs": [
    {
     "name": "stdout",
     "output_type": "stream",
     "text": [
      "              precision    recall  f1-score   support\n",
      "\n",
      "           0       0.99      1.00      0.99       472\n",
      "           1       1.00      0.95      0.98       107\n",
      "\n",
      "    accuracy                           0.99       579\n",
      "   macro avg       0.99      0.98      0.99       579\n",
      "weighted avg       0.99      0.99      0.99       579\n",
      "\n"
     ]
    }
   ],
   "source": [
    "print(classification_report(y_test,predictions))"
   ]
  },
  {
   "cell_type": "markdown",
   "metadata": {},
   "source": [
    "### Random Forest Model "
   ]
  },
  {
   "cell_type": "code",
   "execution_count": 73,
   "metadata": {},
   "outputs": [
    {
     "data": {
      "text/plain": [
       "RandomForestClassifier(class_weight='balanced', criterion='entropy',\n",
       "                       max_features=None)"
      ]
     },
     "execution_count": 73,
     "metadata": {},
     "output_type": "execute_result"
    }
   ],
   "source": [
    "rand = RandomForestClassifier(n_estimators=100,criterion='entropy',max_features=None,class_weight='balanced')\n",
    "rand.fit(x_train, y_train)"
   ]
  },
  {
   "cell_type": "code",
   "execution_count": 74,
   "metadata": {},
   "outputs": [],
   "source": [
    "prediction2 = rand.predict(x_test)"
   ]
  },
  {
   "cell_type": "code",
   "execution_count": 75,
   "metadata": {},
   "outputs": [
    {
     "name": "stdout",
     "output_type": "stream",
     "text": [
      "\n",
      " CONFUSION MATRIX \n",
      " [[468   4]\n",
      " [  8  99]]\n",
      "\n",
      " ACCURACY \n",
      " 0.9792746113989638\n",
      "\n",
      " REPORT \n",
      "               precision    recall  f1-score   support\n",
      "\n",
      "           0       0.98      0.99      0.99       472\n",
      "           1       0.96      0.93      0.94       107\n",
      "\n",
      "    accuracy                           0.98       579\n",
      "   macro avg       0.97      0.96      0.97       579\n",
      "weighted avg       0.98      0.98      0.98       579\n",
      "\n"
     ]
    }
   ],
   "source": [
    "print('\\n','CONFUSION MATRIX','\\n',confusion_matrix(y_test, prediction2))\n",
    "print('\\n','ACCURACY','\\n',accuracy_score(y_test, prediction2))\n",
    "print('\\n','REPORT','\\n',classification_report(y_test,prediction2))"
   ]
  },
  {
   "cell_type": "markdown",
   "metadata": {},
   "source": [
    "### SVM "
   ]
  },
  {
   "cell_type": "code",
   "execution_count": 76,
   "metadata": {},
   "outputs": [],
   "source": [
    "from sklearn import svm\n",
    "SVMM = svm.LinearSVC(class_weight='balanced',verbose=0, random_state=None,max_iter=1000)  "
   ]
  },
  {
   "cell_type": "code",
   "execution_count": 77,
   "metadata": {},
   "outputs": [],
   "source": [
    "SVMM.fit(x_train,y_train)\n",
    "predictions3 = SVMM.predict(x_test)"
   ]
  },
  {
   "cell_type": "code",
   "execution_count": 78,
   "metadata": {},
   "outputs": [
    {
     "name": "stdout",
     "output_type": "stream",
     "text": [
      "\n",
      " CONFUSION MATRIX \n",
      " [[472   0]\n",
      " [  7 100]]\n",
      "\n",
      " ACCURACY \n",
      " 0.9879101899827288\n",
      "\n",
      " REPORT \n",
      "               precision    recall  f1-score   support\n",
      "\n",
      "           0       0.99      1.00      0.99       472\n",
      "           1       1.00      0.93      0.97       107\n",
      "\n",
      "    accuracy                           0.99       579\n",
      "   macro avg       0.99      0.97      0.98       579\n",
      "weighted avg       0.99      0.99      0.99       579\n",
      "\n"
     ]
    }
   ],
   "source": [
    "print('\\n','CONFUSION MATRIX','\\n',confusion_matrix(y_test, predictions3))\n",
    "print('\\n','ACCURACY','\\n',accuracy_score(y_test, predictions3))\n",
    "print('\\n','REPORT','\\n',classification_report(y_test,predictions3))"
   ]
  },
  {
   "cell_type": "markdown",
   "metadata": {},
   "source": [
    "### Conclusion"
   ]
  },
  {
   "cell_type": "markdown",
   "metadata": {},
   "source": [
    "The Logistic Regression is observed as best model for this data to detect spam emails, after converting the text into TF-IDF."
   ]
  },
  {
   "cell_type": "code",
   "execution_count": 79,
   "metadata": {},
   "outputs": [
    {
     "data": {
      "text/plain": [
       "['email_spam_prediction.pkl']"
      ]
     },
     "execution_count": 79,
     "metadata": {},
     "output_type": "execute_result"
    }
   ],
   "source": [
    "#Storing the best model\n",
    "import joblib\n",
    "\n",
    "# Saving the model as a pickle in a file\n",
    "joblib.dump(logisticRegr,\"email_spam_prediction.pkl\")"
   ]
  },
  {
   "cell_type": "markdown",
   "metadata": {},
   "source": [
    "We can use this saved model later on for email spam detection"
   ]
  },
  {
   "cell_type": "code",
   "execution_count": null,
   "metadata": {},
   "outputs": [],
   "source": []
  },
  {
   "cell_type": "code",
   "execution_count": null,
   "metadata": {},
   "outputs": [],
   "source": []
  },
  {
   "cell_type": "code",
   "execution_count": null,
   "metadata": {},
   "outputs": [],
   "source": []
  },
  {
   "cell_type": "code",
   "execution_count": null,
   "metadata": {},
   "outputs": [],
   "source": []
  },
  {
   "cell_type": "code",
   "execution_count": null,
   "metadata": {},
   "outputs": [],
   "source": []
  },
  {
   "cell_type": "code",
   "execution_count": null,
   "metadata": {},
   "outputs": [],
   "source": []
  }
 ],
 "metadata": {
  "kernelspec": {
   "display_name": "Python 3",
   "language": "python",
   "name": "python3"
  },
  "language_info": {
   "codemirror_mode": {
    "name": "ipython",
    "version": 3
   },
   "file_extension": ".py",
   "mimetype": "text/x-python",
   "name": "python",
   "nbconvert_exporter": "python",
   "pygments_lexer": "ipython3",
   "version": "3.8.3"
  }
 },
 "nbformat": 4,
 "nbformat_minor": 4
}
